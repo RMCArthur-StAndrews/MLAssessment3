{
 "cells": [
  {
   "cell_type": "markdown",
   "id": "97a705a7",
   "metadata": {},
   "source": [
    "# CS5914 Machine Learning Algorithms\n",
    "## Assignment 3 \n",
    "##### Credits: 35% of coursework"
   ]
  },
  {
   "cell_type": "markdown",
   "id": "3e26dde6",
   "metadata": {},
   "source": [
    "## Aims\n",
    "\n",
    "The objectives of this assignment are:\n",
    "\n",
    "* deepen your understanding of neural networks\n",
    "* deepen your understanding of supervised and self-supervised learning\n",
    "* deepen your understanding of encoder and decoder networks \n",
    "* gain experience in implementing back propagation and optimisers\n",
    "* gain experience in implementing pre-trained deep neural networks\n",
    "\n",
    "\n"
   ]
  },
  {
   "cell_type": "markdown",
   "id": "d1569e8f",
   "metadata": {},
   "source": [
    "# Task 1. Supervised Learning with Neural Networks\n",
    "\n",
    "Task 1 will involve implementing a simple Neural Network that classifies 2d gray scale images and training it using backpropagation and an optimiser."
   ]
  },
  {
   "cell_type": "markdown",
   "id": "f662dc6a",
   "metadata": {},
   "source": [
    "### Set-up\n",
    "\n",
    "Load required packages (you can only use the imported packages for this task)."
   ]
  },
  {
   "cell_type": "code",
   "execution_count": 1,
   "id": "931f3a91",
   "metadata": {},
   "outputs": [],
   "source": [
    "import matplotlib.pyplot as plt # use this to plot training charts at your discretion\n",
    "import numpy as np \n",
    "import glob # used esclusively to load files from folders\n",
    "from PIL import Image # used to manipulate images and prepare data (you should not need it)"
   ]
  },
  {
   "cell_type": "markdown",
   "id": "29be8be4",
   "metadata": {},
   "source": [
    "### Task 1.1 Implement a simple ReLu activation neuron, a premade implementation of a Linear Layer that goes with it is provided to you. For each of these two components describe the role of each method and how the two components work together.\n",
    "\n",
    "Answer:"
   ]
  },
  {
   "cell_type": "markdown",
   "id": "549bf9fb",
   "metadata": {},
   "source": [
    "#### You can follow the template below, but feel free to start from scratch with your own design.\n"
   ]
  },
  {
   "cell_type": "markdown",
   "id": "46ad377c",
   "metadata": {},
   "source": [
    "#### ReLu Activation"
   ]
  },
  {
   "cell_type": "code",
   "execution_count": null,
   "id": "3303e89b",
   "metadata": {},
   "outputs": [],
   "source": [
    "class ReLu:\n",
    "    # Implement a variable that will store the input during the forward pass\n",
    "    def __init__(self):\n",
    "\n",
    "    # Implement the forward pass of the ReLU\n",
    "    def forward(self, x):\n",
    "        return \n",
    "\n",
    "    # Implement the gradient for the backward pass\n",
    "    def backward(self, gradient_output):\n",
    "        return \n",
    "\n"
   ]
  },
  {
   "cell_type": "markdown",
   "id": "806231b2",
   "metadata": {},
   "source": [
    "#### Linear Layer"
   ]
  },
  {
   "cell_type": "code",
   "execution_count": null,
   "id": "aefb81d2",
   "metadata": {},
   "outputs": [],
   "source": [
    "# Linear Layer. You can use it as is.\n",
    "class Linear:\n",
    "    def __init__(self, input_dim, output_dim):\n",
    "        self.weights = np.random.randn(input_dim, output_dim) * np.sqrt(2. / input_dim) # 'He et al' init strategy\n",
    "        self.biases = np.zeros((1, output_dim))\n",
    "        self.input = None\n",
    "        self.grad_weights = None\n",
    "        self.grad_biases = None\n",
    "\n",
    "    def forward(self, x):\n",
    "        self.input = x\n",
    "        return np.dot(x, self.weights) + self.biases\n",
    "\n",
    "    def backward(self, grad_output):\n",
    "        self.grad_weights = np.dot(self.input.T, grad_output)\n",
    "        self.grad_biases = np.sum(grad_output, axis=0, keepdims=True)\n",
    "        return np.dot(grad_output, self.weights.T)"
   ]
  },
  {
   "cell_type": "markdown",
   "id": "4d0a39ac",
   "metadata": {},
   "source": [
    "### Task 1.2 Implement a simple feed forward neural network, its loss function and a method for backpropagation"
   ]
  },
  {
   "cell_type": "code",
   "execution_count": null,
   "id": "0f8c7d43",
   "metadata": {},
   "outputs": [],
   "source": [
    "class NeuralNetwork:\n",
    "    def __init__(self, layers = []):\n",
    "        self.layers = layers\n",
    "    \n",
    "    # a simple function that can be used to add \n",
    "    def add_layer(self, layer):\n",
    "        self.layers.append(layer)\n",
    "\n",
    "    # Implement a function that applies the input x iteratively to each layer and return the final output\n",
    "    def forward(self, x):\n",
    "        return\n",
    "\n",
    "    # Implement a function that iteratively backpropagate the gradients. Remember to start from the last layer.\n",
    "    def backward(self, gradient_output):\n",
    "    \n",
    "    # implement a function that returns all the parameters for each layer (both weights and biases) and the gradients\n",
    "    def parameters_and_gradients(self):\n",
    "        return  "
   ]
  },
  {
   "cell_type": "markdown",
   "id": "70932133",
   "metadata": {},
   "source": [
    "#### Implement the categorical cross entropy loss function:\n",
    "\n",
    "\n",
    "$-\\sum_{c=1}^My_{o,c}\\log(p_{o,c})$\n",
    "* M - number of classes\n",
    "\n",
    "* log - the natural log\n",
    "\n",
    "* y - binary indicator (0 or 1) if class label c is the correct classification for observation o\n",
    "\n",
    "* p - predicted probability observation o is of class c"
   ]
  },
  {
   "cell_type": "code",
   "execution_count": null,
   "id": "5935b07c",
   "metadata": {},
   "outputs": [],
   "source": [
    "# Implement the categorical cross entropy loss function\n",
    "def cce_loss(y_true, y_pred):\n",
    "    loss = \n",
    "    return loss"
   ]
  },
  {
   "cell_type": "markdown",
   "id": "46575bd4",
   "metadata": {},
   "source": [
    "In order to turn the output of the neural network's last layer into probabilities a softmax function should be used.\n",
    "An implementation of the function and its derivative is provided for your convenience."
   ]
  },
  {
   "cell_type": "code",
   "execution_count": null,
   "id": "48ab975b",
   "metadata": {},
   "outputs": [],
   "source": [
    "# Softmax \n",
    "def softmax(x):\n",
    "    exp_x = np.exp(x - np.max(x, axis=1, keepdims=True))\n",
    "    return exp_x / np.sum(exp_x, axis=1, keepdims=True)\n",
    "\n",
    "# the derivative is that simple due to a combination of choices, the one hot encoding and the use of cross entropy as loss function.\n",
    "def derivative_cross_entropy_softmax(preds, labels):\n",
    "    return preds - labels"
   ]
  },
  {
   "cell_type": "markdown",
   "id": "c3c196c1",
   "metadata": {},
   "source": [
    "### Task1.3 Implement the optimiser based on gradient descent described by the formula:\n",
    "$ \\theta = \\theta – \\eta \\cdot \\nabla_\\theta J(\\theta)$\n",
    "\n",
    "* $\\theta$ is a parameter that will be updated\n",
    "* $\\eta$ is the learning rate \n",
    "* $\\nabla_\\theta J(\\theta)$ is the gradient of the loss function $J$ with respect to $\\theta$"
   ]
  },
  {
   "cell_type": "code",
   "execution_count": null,
   "id": "24c226c3",
   "metadata": {},
   "outputs": [],
   "source": [
    "# Implement a function that iterates over the parameters and update them based on the learning rate and the gradients\n",
    "def sgd(parameters_and_gradients, learning_rate):\n",
    "    ?"
   ]
  },
  {
   "cell_type": "markdown",
   "id": "a82bcf83",
   "metadata": {},
   "source": [
    "### Task1.4 Implement the training loop\n"
   ]
  },
  {
   "cell_type": "code",
   "execution_count": null,
   "id": "e9821b82",
   "metadata": {},
   "outputs": [],
   "source": [
    "def train(network, X_train, Y_train, batch_size, epochs, learning_rate):\n",
    "    n_samples = X_train.shape[0]\n",
    "    n_batches = n_samples // batch_size\n",
    "            \n",
    "    for epoch in range(epochs):\n",
    "        # shuffle data on each epoch\n",
    "        indices = np.arange(n_samples)\n",
    "        np.random.shuffle(indices)\n",
    "        X_train_shuffled = X_train[indices]\n",
    "        Y_train_shuffled = Y_train[indices]\n",
    "        \n",
    "        # a guarded batching loop is provided for your convenience\n",
    "        for i in range(n_batches):\n",
    "            start = i * batch_size\n",
    "            end = start + batch_size\n",
    "            end = min(end,n_samples)\n",
    "\n",
    "            X_batch = X_train_shuffled[start:end]\n",
    "            Y_batch = Y_train_shuffled[start:end]\n",
    "            \n",
    "\n",
    "            # Implement the necessary missing operations:\n",
    "            # - Predict classes for the batch of observations (remember to use softmax on the NN output)\n",
    "            # - Compute the loss between predictions and true lables\n",
    "            # - Compute the gradient of the softmax operation\n",
    "            # - Backpropagate the gradients thoughout the network\n",
    "            # - Use the gradient descent function to update the parameters\n",
    "        \n",
    "        print(f\"Epoch {epoch+1}, Loss: {loss}\")"
   ]
  },
  {
   "cell_type": "markdown",
   "id": "4d555f24",
   "metadata": {},
   "source": [
    "### Task1.5 Instantiate a Neural Network and train it on the provided dataset, then present and evaluate the results obtained by using the Neural Network on the provided test set"
   ]
  },
  {
   "cell_type": "code",
   "execution_count": 26,
   "id": "faf84476",
   "metadata": {},
   "outputs": [],
   "source": [
    "#Unzip the folder you have been provided with in the same folder as this jupyter notebook. This code will prepare training and test sets.\n",
    "filelist = glob.glob('dataset1/train/*.png')\n",
    "train_images_np = np.array([np.array(Image.open(fname)) for fname in filelist])\n",
    "classes_labels_train = np.array([int(fname[-5:-4]) for fname in filelist]) #labels are encoded in the last digit of the name\n",
    "# encoding the training set labels into one hot encoding\n",
    "train_labels = np.zeros((classes_labels_train.size, classes_labels_train.max()+1), dtype=int)\n",
    "train_labels[np.arange(classes_labels_train.size),classes_labels_train] = 1 \n",
    "\n",
    "\n",
    "filelist = glob.glob('dataset1/test/*.png')\n",
    "images_np_test = np.array([np.array(Image.open(fname)) for fname in filelist])\n",
    "classes_labels_test = np.array([int(fname[-5:-4]) for fname in filelist]) #labels are encoded in the last digit of the name\n",
    "# encoding the test set labels into one hot encoding\n",
    "test_labels = np.zeros((classes_labels_test.size, classes_labels_test.max()+1), dtype=int)\n",
    "test_labels[np.arange(classes_labels_test.size),classes_labels_test] = 1 \n"
   ]
  },
  {
   "cell_type": "markdown",
   "id": "1d093980",
   "metadata": {},
   "source": [
    "#### Instantiate the network and set the training parameters"
   ]
  },
  {
   "cell_type": "code",
   "execution_count": null,
   "id": "9627f0f4",
   "metadata": {},
   "outputs": [],
   "source": [
    "# Initialise Network \n",
    "network = NeuralNetwork()\n",
    "# add an input layer, at least a few hidden layers and an output layer to the network\n",
    "\n",
    "\n",
    "# Training Parameters - set the appropriate parameters\n",
    "batch_size = ?\n",
    "epochs = ?\n",
    "learning_rate = ?"
   ]
  },
  {
   "cell_type": "markdown",
   "id": "ee18c16f",
   "metadata": {},
   "source": [
    "#### Train the network"
   ]
  },
  {
   "cell_type": "code",
   "execution_count": null,
   "id": "dfc6514d",
   "metadata": {},
   "outputs": [],
   "source": [
    "# Train the Network\n",
    "train(network, train_images_np, test_labels, batch_size, epochs, learning_rate)"
   ]
  },
  {
   "cell_type": "markdown",
   "id": "f8ca83f1",
   "metadata": {},
   "source": [
    "#### Test the network and present the results. This can be aided by plots. Critically evaluate the results. You are encourage to try different parameters and setting, and searching for the smallest most efficient network that can learn the task."
   ]
  },
  {
   "cell_type": "code",
   "execution_count": 2,
   "id": "4e8338e8",
   "metadata": {},
   "outputs": [],
   "source": [
    "# test the network by using the forward function only.\n"
   ]
  },
  {
   "cell_type": "markdown",
   "id": "0a13ff12-10f8-47d6-8863-1aac23b300ad",
   "metadata": {
    "tags": []
   },
   "source": [
    "\n",
    "# Task 2 Self-Supervised Learning with Convolutional Autoencoders\n",
    "Task 2 will involve constructing a Convolutional Autoencoder and training it on a collection of unlabelled RGB images in order to create a 2D latent space. After visualising how the inputs are encoded into 2d vectors by the network the pre-trained encoder will be extended with a dense classification layer that will be trainined on a smaller set of labelled images.\n",
    "\n",
    "In this task you are allowed to use torch to build your encoder-decoder network.\n",
    "\n",
    "\n"
   ]
  },
  {
   "cell_type": "markdown",
   "id": "76162536",
   "metadata": {},
   "source": [
    "### Set-up\n",
    "\n",
    "Load required packages (you can only use the imported packages for this task)."
   ]
  },
  {
   "cell_type": "code",
   "execution_count": 5,
   "id": "1ae96f4a",
   "metadata": {},
   "outputs": [],
   "source": [
    "import torch\n",
    "import torch.nn as nn\n",
    "import torch.optim as optim\n",
    "from torch.utils.data import Dataset, DataLoader\n",
    "from torchvision import transforms\n",
    "import matplotlib.pyplot as plt\n",
    "from matplotlib.offsetbox import OffsetImage, AnnotationBbox\n",
    "import glob # used esclusively to load files from folders\n",
    "from PIL import Image # used to manipulate images and prepare data (you should not need it)"
   ]
  },
  {
   "cell_type": "code",
   "execution_count": 21,
   "id": "fe6819f8",
   "metadata": {},
   "outputs": [],
   "source": [
    "filelist = glob.glob('dataset2/unlabelled/*.png') # Use these files to pre-train the autoencoder\n",
    "filelist2 = glob.glob('dataset2/train/*.png') # Use these files to train the classifier\n",
    "filelist3 = glob.glob('dataset2/test/*.png') # Use these files to test the classifier\n",
    "unlabelled_images = np.array([np.array(Image.open(fname)) for fname in filelist])\n",
    "\n",
    "train_images = np.array([np.array(Image.open(fname)) for fname in filelist2])\n",
    "train_labels = np.array([int(fname[-5:-4]) for fname in filelist2])\n",
    "\n",
    "test_images = np.array([np.array(Image.open(fname)) for fname in filelist3])\n",
    "test_labels = np.array([int(fname[-5:-4]) for fname in filelist3])"
   ]
  },
  {
   "cell_type": "code",
   "execution_count": 24,
   "id": "3ef99e5d",
   "metadata": {},
   "outputs": [],
   "source": [
    "class CustomDataset(Dataset):\n",
    "    def __init__(self, numpy_array):\n",
    "        self.data = torch.tensor(numpy_array, dtype=torch.float32).permute(0, 3, 1, 2) / 255.0  # Convert to torch.Tensor and normalize\n",
    "\n",
    "    def __len__(self):\n",
    "        return len(self.data)\n",
    "\n",
    "    def __getitem__(self, idx):\n",
    "        return self.data[idx]"
   ]
  },
  {
   "cell_type": "markdown",
   "id": "040f2aca",
   "metadata": {},
   "source": [
    "### Task 2.1 set up an Autoencoder using torch convolutional layers. Make the encoder and decoder at least a few layers deep each. \n",
    "#### Further:\n",
    "* Describe the 2D convolution operation, provide the formula used by the library and the meaning of the parameters.\n",
    "* Describe each layer you have decided to use beyond that, provide the underlying formulas and the meaning of the parameters.\n",
    "* If one type of layer is used multiple times one explaination is sufficient.\n",
    "\n",
    "Answer:"
   ]
  },
  {
   "cell_type": "code",
   "execution_count": 9,
   "id": "5f5d58ea",
   "metadata": {},
   "outputs": [],
   "source": [
    "# Convolutional Auto Encoder\n",
    "class Autoencoder(nn.Module):\n",
    "    def __init__(self):\n",
    "        super(Autoencoder, self).__init__()\n",
    "\n",
    "        # Encoder\n",
    "        self.encoder = nn.Sequential(\n",
    "            nn.Conv2d(3, 16, 3, stride=2, padding=1), # Input: (3, 64, 64), Output: (16, 32, 32)\n",
    "            ## Implement here your architecture using torch layers\n",
    "        )\n",
    "\n",
    "        # Remember that the last layer of the encoder and the first layer of the decoder should be the same \n",
    "        \n",
    "        # Decoder\n",
    "        self.decoder = nn.Sequential(\n",
    "            ## Implement here your architecture using torch layers\n",
    "        )\n",
    "\n",
    "    def forward(self, x):\n",
    "        encoded = self.encoder(x)\n",
    "        decoded = self.decoder(encoded)\n",
    "        return encoded, decoded\n"
   ]
  },
  {
   "cell_type": "code",
   "execution_count": 10,
   "id": "7ae2c6bc",
   "metadata": {},
   "outputs": [],
   "source": [
    "# Training loop\n",
    "def train_autoencoder(model, dataloader, loss_function, optimiser, epochs):\n",
    "    model.train()\n",
    "    for epoch in range(epochs):\n",
    "        for imgs in dataloader:\n",
    "            optimiser.zero_grad()\n",
    "            _ , outputs = model(imgs) # here the encoded values are not used, but you will need it later\n",
    "            loss = loss_function(outputs, imgs)\n",
    "            loss.backward()\n",
    "            optimiser.step()\n",
    "        print(f'Epoch {epoch+1}, Loss: {loss.item()}')"
   ]
  },
  {
   "cell_type": "code",
   "execution_count": null,
   "id": "a93f772e",
   "metadata": {},
   "outputs": [],
   "source": [
    "# Parameters (Adjust as needed)\n",
    "batch_size = 32\n",
    "epochs = 5\n",
    "learning_rate = 0.001\n",
    "\n",
    "# Instantiation of the model\n",
    "autoencoder = Autoencoder()\n",
    "\n",
    "# loss function and optimiser\n",
    "loss_function = nn.MSELoss()\n",
    "optimisation_alg = optim.Adam(autoencoder.parameters(), lr=learning_rate)\n",
    "\n",
    "# Dataset Preparation\n",
    "imageSize = 64\n",
    "transform = transforms.Compose([\n",
    "    transforms.Resize((imageSize, imageSize)),\n",
    "    transforms.ToTensor(),\n",
    "])\n",
    "custom_dataset = CustomDataset(unlabelled_images)\n",
    "dataloader = DataLoader(custom_dataset, batch_size=batch_size, shuffle=False)\n",
    "\n",
    "# training\n",
    "train_autoencoder(autoencoder, dataloader,loss_function,optimisation_alg, epochs)\n",
    "\n"
   ]
  },
  {
   "cell_type": "markdown",
   "id": "70692235",
   "metadata": {},
   "source": [
    "### Task 2.2 Use the pretrained encoder to extract the encoded 2D vectors and plot them using matplotlib"
   ]
  },
  {
   "cell_type": "code",
   "execution_count": null,
   "id": "ac986f60",
   "metadata": {},
   "outputs": [],
   "source": [
    "# Implement the extraction of the encoded input.\n",
    "def latent_space(autoencoder, dataloader):\n",
    "    # make sure to use the autoencoder in evaluation mode. Do not compute the gradients.\n",
    "    latent_spaces = []\n",
    "    # use the autoencoder to produce the latent spaces. Here is where you have to get the encoded values instead of the outputs\n",
    "\n",
    "    return latent_spaces"
   ]
  },
  {
   "cell_type": "code",
   "execution_count": null,
   "id": "4853a928",
   "metadata": {},
   "outputs": [],
   "source": [
    "# Plotting function. If the training is succesful similar images should be clustered together.\n",
    "def plot_latent_space(latent_space):\n",
    "\n",
    "    def getImage(path, zoom=1):\n",
    "        return OffsetImage(plt.imread(path), zoom=0.3)\n",
    "\n",
    "    x = latent_space[:,0]\n",
    "    y = latent_space[:,1]\n",
    "\n",
    "    fig, ax = plt.subplots()\n",
    "    fig.set_size_inches(10, 10)\n",
    "    ax.scatter(x, y)\n",
    "\n",
    "    for x0, y0, path in zip(x, y, filelist): #if you shuffled the data then you must update the filelist array accordingly\n",
    "        ab = AnnotationBbox(getImage(path), (x0, y0), frameon=False)\n",
    "        ax.add_artist(ab)\n",
    "    plt.axis('off')\n",
    "\n",
    "coordinates = latent_space(autoencoder, dataloader)\n",
    "plot_latent_space(coordinates)"
   ]
  },
  {
   "cell_type": "markdown",
   "id": "c083aa89",
   "metadata": {},
   "source": [
    "### Task 2.3 (Advanced) Use the pretrained encoder and join the output of the encoder to a Dense Feed Forward Layer followed by an Output Layer with as many neurons as classes in the dataset."
   ]
  },
  {
   "cell_type": "code",
   "execution_count": null,
   "id": "80595ad8",
   "metadata": {},
   "outputs": [],
   "source": [
    "# Implement the missing functionalities below\n",
    "class PretrainedAEClassifier(nn.Module):\n",
    "    def __init__(self, pretrained_encoder, n_classes):\n",
    "        super().__init__()\n",
    "        \n",
    "        # Use the pretrained encoder\n",
    "        self.encoder = pretrained_encoder\n",
    "        \n",
    "        # Freeze the encoder layers\n",
    "        for param in self.encoder.parameters():\n",
    "            ???\n",
    "            \n",
    "        # Add a new dense layer for classification\n",
    "        self.classifier = ???\n",
    "        \n",
    "    def forward(self, x):\n",
    "        # Use the encoder to extract features\n",
    "        ???\n",
    "        # Pass the encoded features through the classifier\n",
    "        ???\n",
    "        return class_scores\n",
    "\n"
   ]
  },
  {
   "cell_type": "code",
   "execution_count": null,
   "id": "1e7d171a",
   "metadata": {},
   "outputs": [],
   "source": [
    "# this extracts the encoder from the autoencoder\n",
    "encoder_model = autoencoder.encoder\n",
    "\n",
    "number_of_classes = ??\n",
    "\n",
    "# Create the classifier model using the pretrained encoder \n",
    "classifier_model = PretrainedAEClassifier(encoder_model,number_of_classes)"
   ]
  },
  {
   "cell_type": "markdown",
   "id": "aedbbbd4",
   "metadata": {},
   "source": [
    "#### Re-implement the training loop from Task2.1 but this time compute the loss function based on the labels of the images."
   ]
  },
  {
   "cell_type": "markdown",
   "id": "c2d84f56",
   "metadata": {},
   "source": [
    "#### Use the trained classifier on the Test data provided. Briefly present and discuss the outcomes."
   ]
  },
  {
   "cell_type": "markdown",
   "id": "f9b10cb5",
   "metadata": {},
   "source": [
    "# Submission\n",
    "Hand in via Moodle: the completed jupyter notebook.\n",
    "\n"
   ]
  },
  {
   "cell_type": "markdown",
   "id": "4422044c",
   "metadata": {},
   "source": [
    "## Marking\n",
    "Your submission will be marked as a whole. \n",
    "\n",
    "* to get a grade above 13, you are expected to finish at least Task 1 up to 1.5 to a good standard\n",
    "* to get a grade above 13 and up to 17, you are expected to answer Task 1 and Task 2.1-2.2 to a good standard\n",
    "* to achieve a grade of 17-18, you are expected to finish all tasks except Task 2.3 flawlessly \n",
    "* to get 18+, you are expected to attempt all questions flawlessly\n",
    "\n",
    "\n",
    "Marking is according to the standard mark descriptors published in the Student Handbook at:\n",
    "\n",
    "https://info.cs.st-andrews.ac.uk/student-handbook/learning-teaching/feedback.html#GeneralMarkDescriptors\n",
    "\n",
    "\n",
    "You must reference any external sources used. Guidelines for good academic practice are outlined in the student handbook at https://info.cs.st-andrews.ac.uk/student-handbook/academic/gap.html\n",
    "\n",
    "\n",
    "## Submission dates\n",
    "There are no fixed submission dates. Formal exam boards are held in January, May and September. Any provisional grades recorded on MMS are discussed by the Programme team and the External Examiner. Credits for a module can only be obtained after all the coursework has been discussed at an exam board, so students must submit work at least three weeks before the board date, giving time for grading and preparation of feedback.\n",
    "\n",
    "https://www.st-andrews.ac.uk/education/staff/assessment/reporting/"
   ]
  }
 ],
 "metadata": {
  "kernelspec": {
   "display_name": "Python 3 (ipykernel)",
   "language": "python",
   "name": "python3"
  },
  "language_info": {
   "codemirror_mode": {
    "name": "ipython",
    "version": 3
   },
   "file_extension": ".py",
   "mimetype": "text/x-python",
   "name": "python",
   "nbconvert_exporter": "python",
   "pygments_lexer": "ipython3",
   "version": "3.11.9"
  }
 },
 "nbformat": 4,
 "nbformat_minor": 5
}
